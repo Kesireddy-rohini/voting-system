{
 "cells": [
  {
   "cell_type": "code",
   "execution_count": null,
   "metadata": {
    "id": "50S8t3gJEw8o"
   },
   "outputs": [],
   "source": [
    "from flask import Flask, request, jsonify\n",
    "from transformers import BertTokenizer, BertForQuestionAnswering\n",
    "import torch\n",
    "\n",
    "app = Flask(__name__)\n",
    "\n",
    "# Load the model and tokenizer\n",
    "tokenizer = BertTokenizer.from_pretrained('fine_tuned_model')\n",
    "model = BertForQuestionAnswering.from_pretrained('fine_tuned_model')\n",
    "\n",
    "context = \"This document discusses various political issues and positions in the 2024 elections, including economic policies, healthcare, and reform initiatives.\"\n",
    "\n",
    "def answer_question(question):\n",
    "    inputs = tokenizer(question, context, return_tensors='pt', truncation=True)\n",
    "\n",
    "    with torch.no_grad():\n",
    "        outputs = model(**inputs)\n",
    "\n",
    "    answer_start = torch.argmax(outputs.start_logits)\n",
    "    answer_end = torch.argmax(outputs.end_logits) + 1\n",
    "\n",
    "    if answer_start >= answer_end:\n",
    "        return \"No answer found\"\n",
    "\n",
    "    answer_tokens = inputs['input_ids'][0][answer_start:answer_end]\n",
    "    answer = tokenizer.convert_tokens_to_string(tokenizer.convert_ids_to_tokens(answer_tokens))\n",
    "    return answer.strip()\n",
    "\n",
    "@app.route('/ask', methods=['POST'])\n",
    "def ask():\n",
    "    data = request.json\n",
    "    question = data.get('question', '')\n",
    "    answer = answer_question(question)\n",
    "    return jsonify({'answer': answer})\n",
    "\n",
    "if __name__ == '__main__':\n",
    "    app.run(debug=True)\n"
   ]
  }
 ],
 "metadata": {
  "colab": {
   "authorship_tag": "ABX9TyPVTYuE9mk6b8y9hleKN/Ng",
   "provenance": []
  },
  "kernelspec": {
   "display_name": "Python 3 (ipykernel)",
   "language": "python",
   "name": "python3"
  },
  "language_info": {
   "codemirror_mode": {
    "name": "ipython",
    "version": 3
   },
   "file_extension": ".py",
   "mimetype": "text/x-python",
   "name": "python",
   "nbconvert_exporter": "python",
   "pygments_lexer": "ipython3",
   "version": "3.11.9"
  }
 },
 "nbformat": 4,
 "nbformat_minor": 4
}
