{
 "cells": [
  {
   "cell_type": "code",
   "execution_count": 7,
   "metadata": {
    "id": "fRhaQQPnNsFK"
   },
   "outputs": [],
   "source": [
    "import os\n",
    "from fastapi import FastAPI\n",
    "from pydantic import BaseModel\n",
    "from transformers import BertTokenizer, BertForQuestionAnswering\n",
    "import torch\n",
    "\n",
    "# Disable wandb logging if not needed\n",
    "os.environ[\"WANDB_DISABLED\"] = \"true\"\n",
    "\n",
    "# Load the model and tokenizer (make sure to load the fine-tuned model)\n",
    "model = BertForQuestionAnswering.from_pretrained('fine_tuned_model')\n",
    "tokenizer = BertTokenizer.from_pretrained('fine_tuned_model')\n",
    "\n",
    "# Create FastAPI app\n",
    "app = FastAPI()\n",
    "\n",
    "# Define request body using Pydantic\n",
    "class QuestionRequest(BaseModel):\n",
    "    question: str\n",
    "\n",
    "# Context for all questions (you can modify or dynamically generate if needed)\n",
    "context = \"This document discusses various political issues and positions in the 2024 elections, including economic policies, healthcare, and reform initiatives.\"\n",
    "\n",
    "# Answering function\n",
    "def answer_question(question: str, context: str) -> str:\n",
    "    inputs = tokenizer(question, context, return_tensors='pt', truncation=True)\n",
    "\n",
    "    with torch.no_grad():\n",
    "        outputs = model(**inputs)\n",
    "\n",
    "    answer_start = torch.argmax(outputs.start_logits)\n",
    "    answer_end = torch.argmax(outputs.end_logits) + 1\n",
    "\n",
    "    # Handle case where answer may not be found\n",
    "    if answer_start >= answer_end:\n",
    "        return \"No answer found\"\n",
    "\n",
    "    # Convert token IDs to string\n",
    "    answer_tokens = inputs['input_ids'][0][answer_start:answer_end]\n",
    "    answer = tokenizer.convert_tokens_to_string(tokenizer.convert_ids_to_tokens(answer_tokens))\n",
    "    return answer.strip()\n",
    "\n",
    "# Define the endpoint to handle question-answering requests\n",
    "@app.post(\"/answer/\")\n",
    "async def get_answer(request: QuestionRequest):\n",
    "    question = request.question\n",
    "    answer = answer_question(question, context)\n",
    "    return {\"question\": question, \"answer\": answer}\n",
    "\n",
    "# Run the app (you will run this in your terminal, not in the script)\n",
    "# Use `uvicorn main:app --reload` to start the server\n"
   ]
  },
  {
   "cell_type": "code",
   "execution_count": null,
   "metadata": {},
   "outputs": [],
   "source": []
  }
 ],
 "metadata": {
  "colab": {
   "provenance": []
  },
  "kernelspec": {
   "display_name": "Python 3 (ipykernel)",
   "language": "python",
   "name": "python3"
  },
  "language_info": {
   "codemirror_mode": {
    "name": "ipython",
    "version": 3
   },
   "file_extension": ".py",
   "mimetype": "text/x-python",
   "name": "python",
   "nbconvert_exporter": "python",
   "pygments_lexer": "ipython3",
   "version": "3.11.9"
  }
 },
 "nbformat": 4,
 "nbformat_minor": 4
}
